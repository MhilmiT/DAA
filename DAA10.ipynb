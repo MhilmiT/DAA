{
  "nbformat": 4,
  "nbformat_minor": 0,
  "metadata": {
    "colab": {
      "provenance": [],
      "authorship_tag": "ABX9TyPOJFPQ41lrUguNjn9DPmJk",
      "include_colab_link": true
    },
    "kernelspec": {
      "name": "python3",
      "display_name": "Python 3"
    },
    "language_info": {
      "name": "python"
    }
  },
  "cells": [
    {
      "cell_type": "markdown",
      "metadata": {
        "id": "view-in-github",
        "colab_type": "text"
      },
      "source": [
        "<a href=\"https://colab.research.google.com/github/MhilmiT/DAA/blob/main/DAA10.ipynb\" target=\"_parent\"><img src=\"https://colab.research.google.com/assets/colab-badge.svg\" alt=\"Open In Colab\"/></a>"
      ]
    },
    {
      "cell_type": "code",
      "execution_count": 1,
      "metadata": {
        "colab": {
          "base_uri": "https://localhost:8080/"
        },
        "id": "aDiguRv5GzkE",
        "outputId": "ca95c8fe-0b2d-49a5-e9cc-348b3639523c"
      },
      "outputs": [
        {
          "output_type": "stream",
          "name": "stdout",
          "text": [
            "Looking in indexes: https://pypi.org/simple, https://us-python.pkg.dev/colab-wheels/public/simple/\n",
            "Collecting pulp==2.3.1\n",
            "  Downloading PuLP-2.3.1-py3-none-any.whl (40.6 MB)\n",
            "\u001b[K     |████████████████████████████████| 40.6 MB 1.3 MB/s \n",
            "\u001b[?25hCollecting amply>=0.1.2\n",
            "  Downloading amply-0.1.5-py3-none-any.whl (16 kB)\n",
            "Requirement already satisfied: docutils>=0.3 in /usr/local/lib/python3.7/dist-packages (from amply>=0.1.2->pulp==2.3.1) (0.17.1)\n",
            "Requirement already satisfied: pyparsing in /usr/local/lib/python3.7/dist-packages (from amply>=0.1.2->pulp==2.3.1) (3.0.9)\n",
            "Installing collected packages: amply, pulp\n",
            "Successfully installed amply-0.1.5 pulp-2.3.1\n"
          ]
        }
      ],
      "source": [
        "pip install pulp==2.3.1"
      ]
    },
    {
      "cell_type": "code",
      "source": [
        "import pulp\n",
        "import numpy as np\n",
        "from scipy.optimize import linprog\n"
      ],
      "metadata": {
        "id": "OBoGmr5eHIvQ"
      },
      "execution_count": 2,
      "outputs": []
    },
    {
      "cell_type": "code",
      "source": [
        "model = pulp.LpProblem(\"ProfitMaximisingProblem\", pulp.LpMaximize)\n",
        "A = pulp.LpVariable('A', lowBound=0, cat='Integer')\n",
        "B = pulp.LpVariable('B', lowBound=0, cat='Integer')"
      ],
      "metadata": {
        "id": "qpRAElPUHUV9"
      },
      "execution_count": 3,
      "outputs": []
    },
    {
      "cell_type": "code",
      "source": [
        "model += 5000 * A + 2500 * B, \"Profit\"\n",
        "model += 3 * A + 2 * B <= 20\n",
        "model += 4 * A + 3 * B <= 30\n",
        "model += 4 * A + 3 * B <= 44"
      ],
      "metadata": {
        "id": "KN2IcTn_HWV3"
      },
      "execution_count": 4,
      "outputs": []
    },
    {
      "cell_type": "code",
      "source": [
        "model.solve()\n",
        "pulp.LpStatus[model.status]"
      ],
      "metadata": {
        "colab": {
          "base_uri": "https://localhost:8080/",
          "height": 36
        },
        "id": "LY27XjdtHcvc",
        "outputId": "26db57dc-3c5e-4159-c1a5-0be735209c8f"
      },
      "execution_count": 5,
      "outputs": [
        {
          "output_type": "execute_result",
          "data": {
            "text/plain": [
              "'Optimal'"
            ],
            "application/vnd.google.colaboratory.intrinsic+json": {
              "type": "string"
            }
          },
          "metadata": {},
          "execution_count": 5
        }
      ]
    },
    {
      "cell_type": "code",
      "source": [
        "print (A.varValue)\n",
        "print (B.varValue)\n",
        "\n",
        "print (pulp.value(model.objective))"
      ],
      "metadata": {
        "colab": {
          "base_uri": "https://localhost:8080/"
        },
        "id": "8SRHMwsFHgU0",
        "outputId": "4b9ae3ba-dcc8-4495-aaaa-7046533acc9f"
      },
      "execution_count": 6,
      "outputs": [
        {
          "output_type": "stream",
          "name": "stdout",
          "text": [
            "6.0\n",
            "1.0\n",
            "32500.0\n"
          ]
        }
      ]
    },
    {
      "cell_type": "code",
      "source": [
        "#latihan\n",
        "model = pulp.LpProblem(\"ProfitMaximisingProblem\", pulp.LpMaximize)\n",
        "X = pulp.LpVariable('X', lowBound=0, cat='Integer')\n",
        "Y = pulp.LpVariable('Y', lowBound=0, cat='Integer')\n",
        "\n",
        "model += 4 * X + 3 * Y == 34\n",
        "model += 5 * X + 1 * Y == 37"
      ],
      "metadata": {
        "id": "2XzdUXZIHnxs"
      },
      "execution_count": 7,
      "outputs": []
    },
    {
      "cell_type": "code",
      "source": [
        "model.solve()\n",
        "\n",
        "print (X.varValue)\n",
        "print (Y.varValue)"
      ],
      "metadata": {
        "colab": {
          "base_uri": "https://localhost:8080/"
        },
        "id": "d0jI2oHuHp21",
        "outputId": "449212e5-976f-4656-c0f8-df3d771c5e0e"
      },
      "execution_count": 8,
      "outputs": [
        {
          "output_type": "stream",
          "name": "stdout",
          "text": [
            "7.0\n",
            "2.0\n"
          ]
        }
      ]
    },
    {
      "cell_type": "code",
      "source": [
        "#latihan\n",
        "model = pulp.LpProblem(\"ProfitMaximisingProblem\", pulp.LpMaximize)\n",
        "X = pulp.LpVariable('X', lowBound=0, cat='Integer')\n",
        "Y = pulp.LpVariable('Y', lowBound=0, cat='Integer')\n",
        "\n",
        "model += 3 * X + 4 * Y == 11000\n",
        "model += 1 * X + 7 * Y == 15000\n",
        "model += 2 * X + 6 * Y, 'Hasil'\n",
        "\n",
        "model.solve()\n",
        "pulp.LpStatus[model.status]\n",
        "\n",
        "print (X.varValue)\n",
        "print (Y.varValue)\n",
        "print (pulp.value(model.objective))\n"
      ],
      "metadata": {
        "colab": {
          "base_uri": "https://localhost:8080/"
        },
        "id": "m5Tk-obLHv8v",
        "outputId": "9899c91f-b2a3-48bc-b377-5674d223674d"
      },
      "execution_count": 9,
      "outputs": [
        {
          "output_type": "stream",
          "name": "stdout",
          "text": [
            "1000.0\n",
            "2000.0\n",
            "14000.0\n"
          ]
        }
      ]
    },
    {
      "cell_type": "code",
      "source": [
        "#latihan\n",
        "model = pulp.LpProblem(\"KelilingPersegiPanjang\", pulp.LpMaximize)\n",
        "X = pulp.LpVariable('X', lowBound=0, cat='Integer')\n",
        "Y = pulp.LpVariable('Y', lowBound=0, cat='Integer')\n",
        "\n",
        "model += 2 * X + 2 * Y, 'Keliling'\n",
        "\n",
        "model += 2 * X + 2 * Y == 44\n",
        "model += 2 * X + 2 * (X - 6) == 44\n",
        "\n",
        "model.solve()\n",
        "pulp.LpStatus[model.status]\n",
        "\n",
        "print (X.varValue)\n",
        "print (Y.varValue)\n",
        "print (pulp.value(model.objective))"
      ],
      "metadata": {
        "colab": {
          "base_uri": "https://localhost:8080/"
        },
        "id": "GwXOW2-LHx6d",
        "outputId": "ad79774f-fba2-4c84-b33a-e582c1f51b18"
      },
      "execution_count": 10,
      "outputs": [
        {
          "output_type": "stream",
          "name": "stdout",
          "text": [
            "14.0\n",
            "8.0\n",
            "44.0\n"
          ]
        }
      ]
    },
    {
      "cell_type": "code",
      "source": [
        "A = np.array([[1, 0], [2, 3], [1, 1], [-1, 0], [0, -1]])\n",
        "b = np.array([16, 19, 8, 0, 0])\n",
        "c = np.array([-5, -7])\n",
        "res = linprog(c, A_ub=A, b_ub=b)"
      ],
      "metadata": {
        "id": "kwkK2u4vH1mx"
      },
      "execution_count": 11,
      "outputs": []
    },
    {
      "cell_type": "code",
      "source": [
        "print('Optimal value:', round(res.fun*-1, ndigits=2), \n",
        "      '\\nx values:', res.x,\n",
        "      '\\nNumber of iterations performed:', res.nit,\n",
        "      '\\nStatus:', res.message)"
      ],
      "metadata": {
        "colab": {
          "base_uri": "https://localhost:8080/"
        },
        "id": "qd2SX-z7H5O2",
        "outputId": "4d70eb23-a156-48f2-9f36-576d5b70a8f6"
      },
      "execution_count": 12,
      "outputs": [
        {
          "output_type": "stream",
          "name": "stdout",
          "text": [
            "Optimal value: 46.0 \n",
            "x values: [5. 3.] \n",
            "Number of iterations performed: 5 \n",
            "Status: Optimization terminated successfully.\n"
          ]
        }
      ]
    },
    {
      "cell_type": "code",
      "source": [
        "A = np.array([[4, 12], [2, 1], [-1, 0], [0, -1]])\n",
        "b = np.array([28, 21, 0, 0])\n",
        "c = np.array([-1, -5])\n",
        "res = linprog(c, A_ub=A, b_ub=b)\n",
        "\n",
        "print('Optimal value:', round(res.fun*-1, ndigits=2), \n",
        "      '\\nx values:', res.x,\n",
        "      '\\nNumber of iterations performed:', res.nit,\n",
        "      '\\nStatus:', res.message)"
      ],
      "metadata": {
        "colab": {
          "base_uri": "https://localhost:8080/"
        },
        "id": "-I37l0MsH90F",
        "outputId": "c2d58544-2829-4be0-eda4-f44eaff076fa"
      },
      "execution_count": 13,
      "outputs": [
        {
          "output_type": "stream",
          "name": "stdout",
          "text": [
            "Optimal value: 11.67 \n",
            "x values: [1.26448491e-11 2.33333333e+00] \n",
            "Number of iterations performed: 5 \n",
            "Status: Optimization terminated successfully.\n"
          ]
        }
      ]
    },
    {
      "cell_type": "code",
      "source": [
        "A = np.array([[3, 4], [1, 1], [-1, 0], [0, -1]])\n",
        "b = np.array([55, 16, 0, 0])\n",
        "c = np.array([-1, -1])\n",
        "res = linprog(c, A_ub=A, b_ub=b)\n",
        "\n",
        "print('Optimal value:', round(res.fun*-1, ndigits=2), \n",
        "      '\\nx values:', res.x,\n",
        "      '\\nNumber of iterations performed:', res.nit,\n",
        "      '\\nStatus:', res.message)"
      ],
      "metadata": {
        "colab": {
          "base_uri": "https://localhost:8080/"
        },
        "id": "SzmknTwTICFh",
        "outputId": "0919eb47-83e1-49d6-a07a-b68735a349ba"
      },
      "execution_count": 14,
      "outputs": [
        {
          "output_type": "stream",
          "name": "stdout",
          "text": [
            "Optimal value: 16.0 \n",
            "x values: [11.28137676  4.71862324] \n",
            "Number of iterations performed: 5 \n",
            "Status: Optimization terminated successfully.\n"
          ]
        }
      ]
    }
  ]
}