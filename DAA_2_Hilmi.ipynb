{
  "nbformat": 4,
  "nbformat_minor": 0,
  "metadata": {
    "colab": {
      "provenance": [],
      "authorship_tag": "ABX9TyNSLayLirD+nnY4QJ4vm10y",
      "include_colab_link": true
    },
    "kernelspec": {
      "name": "python3",
      "display_name": "Python 3"
    },
    "language_info": {
      "name": "python"
    }
  },
  "cells": [
    {
      "cell_type": "markdown",
      "metadata": {
        "id": "view-in-github",
        "colab_type": "text"
      },
      "source": [
        "<a href=\"https://colab.research.google.com/github/MhilmiT/DAA/blob/main/DAA_2_Hilmi.ipynb\" target=\"_parent\"><img src=\"https://colab.research.google.com/assets/colab-badge.svg\" alt=\"Open In Colab\"/></a>"
      ]
    },
    {
      "cell_type": "code",
      "execution_count": 2,
      "metadata": {
        "colab": {
          "base_uri": "https://localhost:8080/"
        },
        "id": "vLAIOXxHtEAw",
        "outputId": "bbecdf34-66bb-4006-bc5c-96d11c519bb3"
      },
      "outputs": [
        {
          "output_type": "stream",
          "name": "stdout",
          "text": [
            "1.21.6\n"
          ]
        }
      ],
      "source": [
        "import numpy as np\n",
        "print(np.__version__)"
      ]
    },
    {
      "cell_type": "code",
      "source": [
        "print(\"Hello, World!\")"
      ],
      "metadata": {
        "colab": {
          "base_uri": "https://localhost:8080/"
        },
        "id": "QjRnwavJt-bJ",
        "outputId": "cc48d186-8af5-46d4-fddf-baedf6a2e668"
      },
      "execution_count": 5,
      "outputs": [
        {
          "output_type": "stream",
          "name": "stdout",
          "text": [
            "Hello, World!\n"
          ]
        }
      ]
    },
    {
      "cell_type": "code",
      "source": [
        "print(\"Nama saya Muhammad Hilmi\")"
      ],
      "metadata": {
        "colab": {
          "base_uri": "https://localhost:8080/"
        },
        "id": "bEx-swWxuRVr",
        "outputId": "adb91fac-7c25-440a-f8e6-3124fbb06a70"
      },
      "execution_count": 6,
      "outputs": [
        {
          "output_type": "stream",
          "name": "stdout",
          "text": [
            "Nama saya Muhammad Hilmi\n"
          ]
        }
      ]
    },
    {
      "cell_type": "code",
      "source": [
        "print(\"NIM saya 2021071030\")"
      ],
      "metadata": {
        "colab": {
          "base_uri": "https://localhost:8080/"
        },
        "id": "A9bqn4PZuXkX",
        "outputId": "d4a7bbad-dea0-468a-8c23-8abd0dd02853"
      },
      "execution_count": 7,
      "outputs": [
        {
          "output_type": "stream",
          "name": "stdout",
          "text": [
            "NIM saya 2021071030\n"
          ]
        }
      ]
    },
    {
      "cell_type": "code",
      "source": [
        "if 5 > 2:\n",
        "  print(\"Five is greater than two!\")"
      ],
      "metadata": {
        "colab": {
          "base_uri": "https://localhost:8080/"
        },
        "id": "w086uxDiua9d",
        "outputId": "f380fd97-98a2-498b-b9be-2890c33e95ec"
      },
      "execution_count": 8,
      "outputs": [
        {
          "output_type": "stream",
          "name": "stdout",
          "text": [
            "Five is greater than two!\n"
          ]
        }
      ]
    },
    {
      "cell_type": "code",
      "source": [
        "x = 5\n",
        "y = \"John\"\n",
        "print(x)\n",
        "print(y)"
      ],
      "metadata": {
        "colab": {
          "base_uri": "https://localhost:8080/"
        },
        "id": "0VTXX_VxuhG6",
        "outputId": "f14ec28d-c768-4a6c-8dd8-e767d1aa7b95"
      },
      "execution_count": 9,
      "outputs": [
        {
          "output_type": "stream",
          "name": "stdout",
          "text": [
            "5\n",
            "John\n"
          ]
        }
      ]
    },
    {
      "cell_type": "code",
      "source": [
        "x = 4\n",
        "x = \"Sally\"\n",
        "print(x)"
      ],
      "metadata": {
        "colab": {
          "base_uri": "https://localhost:8080/"
        },
        "id": "yedt0cisul13",
        "outputId": "f31cc786-7ace-4a9f-8df3-22740c835ebc"
      },
      "execution_count": 10,
      "outputs": [
        {
          "output_type": "stream",
          "name": "stdout",
          "text": [
            "Sally\n"
          ]
        }
      ]
    },
    {
      "cell_type": "code",
      "source": [
        "def getFirst(myList):\n",
        "  return myList[0]\n",
        "\n",
        "getFirst([1,2,3])"
      ],
      "metadata": {
        "colab": {
          "base_uri": "https://localhost:8080/"
        },
        "id": "jmdwVp2FurN0",
        "outputId": "e462d205-7759-43ba-c996-1b10a8f73d24"
      },
      "execution_count": 11,
      "outputs": [
        {
          "output_type": "execute_result",
          "data": {
            "text/plain": [
              "1"
            ]
          },
          "metadata": {},
          "execution_count": 11
        }
      ]
    },
    {
      "cell_type": "code",
      "source": [
        "def getSecond(myList):\n",
        "  return myList[1]\n",
        "\n",
        "getSecond([1,2,3])"
      ],
      "metadata": {
        "colab": {
          "base_uri": "https://localhost:8080/"
        },
        "id": "Ne8cqxVOxo1i",
        "outputId": "cdce83a2-1503-4b48-90bd-06be651b3acb"
      },
      "execution_count": 32,
      "outputs": [
        {
          "output_type": "execute_result",
          "data": {
            "text/plain": [
              "2"
            ]
          },
          "metadata": {},
          "execution_count": 32
        }
      ]
    },
    {
      "cell_type": "code",
      "source": [
        "def getLast(myList):\n",
        "  return myList[-1]\n",
        "\n",
        "getLast([1,2,3])\n"
      ],
      "metadata": {
        "colab": {
          "base_uri": "https://localhost:8080/"
        },
        "id": "TirmW-CquwzR",
        "outputId": "8de435f7-b544-466e-e261-4dc3b5031ad7"
      },
      "execution_count": 34,
      "outputs": [
        {
          "output_type": "execute_result",
          "data": {
            "text/plain": [
              "3"
            ]
          },
          "metadata": {},
          "execution_count": 34
        }
      ]
    },
    {
      "cell_type": "code",
      "source": [
        "getLast([1,2,3,4,5,6,7,8,9,10,11])"
      ],
      "metadata": {
        "colab": {
          "base_uri": "https://localhost:8080/"
        },
        "id": "0kIXHMyVvM4o",
        "outputId": "7034dad0-7361-4fbb-fd41-86d5974e3bb1"
      },
      "execution_count": 35,
      "outputs": [
        {
          "output_type": "execute_result",
          "data": {
            "text/plain": [
              "11"
            ]
          },
          "metadata": {},
          "execution_count": 35
        }
      ]
    },
    {
      "cell_type": "code",
      "source": [
        "def getSum(myList):\n",
        "    sum = 0\n",
        "    for item in myList:\n",
        "        sum = sum+item\n",
        "    return sum"
      ],
      "metadata": {
        "id": "Stohl_Vevixk"
      },
      "execution_count": 19,
      "outputs": []
    },
    {
      "cell_type": "code",
      "source": [
        "getSum([1,2,3,4])"
      ],
      "metadata": {
        "colab": {
          "base_uri": "https://localhost:8080/"
        },
        "id": "7QIhT1dswXVw",
        "outputId": "d7a405d7-3236-446f-e8f7-b1a5a382e491"
      },
      "execution_count": 20,
      "outputs": [
        {
          "output_type": "execute_result",
          "data": {
            "text/plain": [
              "10"
            ]
          },
          "metadata": {},
          "execution_count": 20
        }
      ]
    },
    {
      "cell_type": "code",
      "source": [
        "def getKali(myList):\n",
        "    sum = 1\n",
        "    for item in myList:\n",
        "        sum = sum*item\n",
        "    return sum\n",
        "\n",
        "getKali([5,3])"
      ],
      "metadata": {
        "colab": {
          "base_uri": "https://localhost:8080/"
        },
        "id": "u5InewiZwcUN",
        "outputId": "a20d5930-32c9-4124-a1e8-2a25e35586ac"
      },
      "execution_count": 46,
      "outputs": [
        {
          "output_type": "execute_result",
          "data": {
            "text/plain": [
              "15"
            ]
          },
          "metadata": {},
          "execution_count": 46
        }
      ]
    },
    {
      "cell_type": "code",
      "source": [
        "def getBagi(myList):\n",
        "    sum = 48\n",
        "    for item in myList:\n",
        "        sum = sum/item\n",
        "    return sum"
      ],
      "metadata": {
        "id": "8aluT3i0wnW-"
      },
      "execution_count": 50,
      "outputs": []
    },
    {
      "cell_type": "code",
      "source": [
        "getBagi([1,2,3,4])"
      ],
      "metadata": {
        "colab": {
          "base_uri": "https://localhost:8080/"
        },
        "id": "0Pq2IlODwsVF",
        "outputId": "c59700ed-e56d-44c7-bf4f-45079a97c7d3"
      },
      "execution_count": 51,
      "outputs": [
        {
          "output_type": "execute_result",
          "data": {
            "text/plain": [
              "2.0"
            ]
          },
          "metadata": {},
          "execution_count": 51
        }
      ]
    },
    {
      "cell_type": "code",
      "source": [
        "def getSum(myList):\n",
        "  sum = 0\n",
        "  for row in myList:\n",
        "    for item in row:\n",
        "      sum += item\n",
        "  return sum"
      ],
      "metadata": {
        "id": "ThyGVZndwxhf"
      },
      "execution_count": 24,
      "outputs": []
    },
    {
      "cell_type": "code",
      "source": [
        "getSum([[1,2,5],[3,4,7]])"
      ],
      "metadata": {
        "colab": {
          "base_uri": "https://localhost:8080/"
        },
        "id": "3D0VPLoQw1HO",
        "outputId": "2845f06b-ba0f-4fd4-adb7-0855910ffc36"
      },
      "execution_count": 36,
      "outputs": [
        {
          "output_type": "execute_result",
          "data": {
            "text/plain": [
              "22"
            ]
          },
          "metadata": {},
          "execution_count": 36
        }
      ]
    },
    {
      "cell_type": "code",
      "source": [
        "getSum([[1,2], [3,4]])"
      ],
      "metadata": {
        "colab": {
          "base_uri": "https://localhost:8080/"
        },
        "id": "zkIC-mBR0dks",
        "outputId": "39513d5a-3428-4fd4-8b15-2f2394c1f0f6"
      },
      "execution_count": 37,
      "outputs": [
        {
          "output_type": "execute_result",
          "data": {
            "text/plain": [
              "10"
            ]
          },
          "metadata": {},
          "execution_count": 37
        }
      ]
    },
    {
      "cell_type": "code",
      "source": [
        "getSum([[1,2,3], [4,5,6]])"
      ],
      "metadata": {
        "colab": {
          "base_uri": "https://localhost:8080/"
        },
        "id": "NBA1OOC90oL_",
        "outputId": "d100b906-c102-4c9b-b21c-57eecab2150b"
      },
      "execution_count": 38,
      "outputs": [
        {
          "output_type": "execute_result",
          "data": {
            "text/plain": [
              "21"
            ]
          },
          "metadata": {},
          "execution_count": 38
        }
      ]
    },
    {
      "cell_type": "code",
      "source": [
        "def getBagi(myList):\n",
        "  sum = 48\n",
        "  for row in myList:\n",
        "    for item in row:\n",
        "      sum /= item\n",
        "  return sum\n",
        "\n",
        "getSum([[8],[4]])"
      ],
      "metadata": {
        "colab": {
          "base_uri": "https://localhost:8080/"
        },
        "id": "UXJGApNVw5tY",
        "outputId": "17968bfc-1441-4dcb-e718-5307cd0bde5e"
      },
      "execution_count": 39,
      "outputs": [
        {
          "output_type": "execute_result",
          "data": {
            "text/plain": [
              "12"
            ]
          },
          "metadata": {},
          "execution_count": 39
        }
      ]
    },
    {
      "cell_type": "code",
      "source": [
        "def getKurang(myList):\n",
        "  sum = 40\n",
        "  for row in myList:\n",
        "    for item in row:\n",
        "      sum -= item\n",
        "  return sum\n",
        "getKurang([[8,4],[10,4]])"
      ],
      "metadata": {
        "colab": {
          "base_uri": "https://localhost:8080/"
        },
        "id": "AVmief_dw-8K",
        "outputId": "5dd1f8aa-6b22-472e-fbd6-64c37be7a987"
      },
      "execution_count": 42,
      "outputs": [
        {
          "output_type": "execute_result",
          "data": {
            "text/plain": [
              "14"
            ]
          },
          "metadata": {},
          "execution_count": 42
        }
      ]
    },
    {
      "cell_type": "code",
      "source": [
        "def searchBinary(myList,item):\n",
        "    first = 0\n",
        "    last = len(myList)-1\n",
        "    foundFlag = False\n",
        "    while( first<=last and not foundFlag):\n",
        "        mid = (first + last)//2\n",
        "        if myList[mid] == item :\n",
        "          foundFlag = True\n",
        "        else:\n",
        "          if item < myList[mid]:\n",
        "            last = mid - 1\n",
        "          else:\n",
        "            first = mid + 1\n",
        "    return foundFlag\n",
        "\n",
        "searchBinary([8,9,10,100,1000,2000,3000], 10)"
      ],
      "metadata": {
        "colab": {
          "base_uri": "https://localhost:8080/"
        },
        "id": "TenNEv1HxLt3",
        "outputId": "cbc2d09e-3723-4107-f915-52e23954d505"
      },
      "execution_count": 28,
      "outputs": [
        {
          "output_type": "execute_result",
          "data": {
            "text/plain": [
              "True"
            ]
          },
          "metadata": {},
          "execution_count": 28
        }
      ]
    },
    {
      "cell_type": "code",
      "source": [
        "searchBinary([8,9,10,100,1000,2000,3000], 5)"
      ],
      "metadata": {
        "colab": {
          "base_uri": "https://localhost:8080/"
        },
        "id": "iHvPqoQBxP2F",
        "outputId": "1acad336-1b37-4147-f13d-9fcdbdfb52f6"
      },
      "execution_count": 29,
      "outputs": [
        {
          "output_type": "execute_result",
          "data": {
            "text/plain": [
              "False"
            ]
          },
          "metadata": {},
          "execution_count": 29
        }
      ]
    }
  ]
}