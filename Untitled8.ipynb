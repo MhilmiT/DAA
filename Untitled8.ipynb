{
  "nbformat": 4,
  "nbformat_minor": 0,
  "metadata": {
    "colab": {
      "provenance": [],
      "authorship_tag": "ABX9TyNYcFHeAZ4DzLlPTqHCpvJF",
      "include_colab_link": true
    },
    "kernelspec": {
      "name": "python3",
      "display_name": "Python 3"
    },
    "language_info": {
      "name": "python"
    }
  },
  "cells": [
    {
      "cell_type": "markdown",
      "metadata": {
        "id": "view-in-github",
        "colab_type": "text"
      },
      "source": [
        "<a href=\"https://colab.research.google.com/github/MhilmiT/DAA/blob/main/Untitled8.ipynb\" target=\"_parent\"><img src=\"https://colab.research.google.com/assets/colab-badge.svg\" alt=\"Open In Colab\"/></a>"
      ]
    },
    {
      "cell_type": "code",
      "execution_count": 10,
      "metadata": {
        "colab": {
          "base_uri": "https://localhost:8080/"
        },
        "id": "iiLOU3pRGpG7",
        "outputId": "ab0ecd73-1bfc-438a-ca52-d8216151a554"
      },
      "outputs": [
        {
          "output_type": "stream",
          "name": "stdout",
          "text": [
            "Looking in indexes: https://pypi.org/simple, https://us-python.pkg.dev/colab-wheels/public/simple/\n",
            "Requirement already satisfied: openpyxl in /usr/local/lib/python3.8/dist-packages (3.0.10)\n",
            "Requirement already satisfied: et-xmlfile in /usr/local/lib/python3.8/dist-packages (from openpyxl) (1.1.0)\n"
          ]
        }
      ],
      "source": [
        "!pip install openpyxl"
      ]
    },
    {
      "cell_type": "code",
      "source": [
        "import pandas as pd"
      ],
      "metadata": {
        "id": "x5YTZv90G17E"
      },
      "execution_count": 11,
      "outputs": []
    },
    {
      "cell_type": "code",
      "source": [
        "df = pd.read_excel(\"database daa.xlsx\")"
      ],
      "metadata": {
        "id": "Y6bjdSOuHPbF"
      },
      "execution_count": 12,
      "outputs": []
    },
    {
      "cell_type": "code",
      "source": [
        "print(df)"
      ],
      "metadata": {
        "colab": {
          "base_uri": "https://localhost:8080/"
        },
        "id": "Jws9oClsHkFt",
        "outputId": "577fce36-4681-4abd-f37c-4fcfe7d7dd19"
      },
      "execution_count": 13,
      "outputs": [
        {
          "output_type": "stream",
          "name": "stdout",
          "text": [
            "    No      Jenis         Nama barang      Warna\n",
            "0    1     Outter         Jaket Denim       Biru\n",
            "1    2     Outter         Jaket Denim      Hitam\n",
            "2    3     Outter       Jaket Varsity      Hitam\n",
            "3    4     Outter            Cardigan       Biru\n",
            "4    5     Outter              Hoodie      Merah\n",
            "5    6     Outter              Hoodie     Kuning\n",
            "6    7     Outter             Sweater  Biru muda\n",
            "7    8      Inner             T-shirt      Hitam\n",
            "8    9      Inner             T-shirt      Putih\n",
            "9   10      Inner      Kemeja Flannel      Merah\n",
            "10  11      Inner  Kemeja kotak-kotak      Hijau\n",
            "11  12      Inner          Kaos dalam      Putih\n",
            "12  13  Subaltern         Denim pants       Biru\n",
            "13  14  Subaltern         Denim pants      Hitam\n",
            "14  15  Subaltern               Joger      Hitam\n",
            "15  16  Subaltern         Ankle Pants      Hitam\n",
            "16  17  Subaltern               Chino      Cream\n"
          ]
        }
      ]
    },
    {
      "cell_type": "code",
      "source": [
        "cari = input('Cari nama barang: ')"
      ],
      "metadata": {
        "colab": {
          "base_uri": "https://localhost:8080/"
        },
        "id": "R7dRIrZbHmum",
        "outputId": "3addfe61-0982-4491-d03d-e775a1921812"
      },
      "execution_count": 14,
      "outputs": [
        {
          "name": "stdout",
          "output_type": "stream",
          "text": [
            "Cari nama barang: Jaket Denim\n"
          ]
        }
      ]
    },
    {
      "cell_type": "code",
      "source": [
        "i = 0\n",
        "found = False\n",
        "warna = []\n",
        "\n",
        "for i in range(17):\n",
        "  if df['Nama barang'][i] == cari:\n",
        "    found = True\n",
        "    warna.append(df['Warna'][i])\n",
        "\n",
        "if found:\n",
        "  print(f'{cari} ditemukan!')\n",
        "else:\n",
        "  print(f'{cari} tidak ditemukan!')\n",
        "\n",
        "print('Warna: {}'.format(sorted(warna)))\n",
        "\n"
      ],
      "metadata": {
        "colab": {
          "base_uri": "https://localhost:8080/"
        },
        "id": "Ii1H-LkgH0Ug",
        "outputId": "4ff3772b-d886-4419-87fb-e71dd50d3b6a"
      },
      "execution_count": 22,
      "outputs": [
        {
          "output_type": "stream",
          "name": "stdout",
          "text": [
            "Jaket Denim ditemukan!\n",
            "Warna: ['Biru', 'Hitam']\n"
          ]
        }
      ]
    }
  ]
}